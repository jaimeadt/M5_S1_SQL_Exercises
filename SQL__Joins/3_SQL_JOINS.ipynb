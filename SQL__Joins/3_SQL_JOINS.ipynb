{
 "cells": [
  {
   "cell_type": "markdown",
   "metadata": {},
   "source": [
    "<h1>Índice del Reto Guiado de SQL. Relaciones de tablas (JOINS).</h1>\n",
    "<div class=\"toc\">\n",
    "    <ul class=\"toc-item\">\n",
    "        <li>\n",
    "            <span><a href=\"#1-resumen-del-3º-reto-guiado-sql-relaciones-de-tablas-joins\">1. Resumen del 3º Reto Guiado SQL: Relaciones de tablas (JOINS).</a></span>\n",
    "            <ul class=\"toc-item\">\n",
    "                <li><span><a href=\"#11-conocimientos-previos\">1.1. Conocimientos previos.</a></span></li>\n",
    "                <li><span><a href=\"#12-propósito-del-reto\">1.2. Propósito del reto.</a></span></li>\n",
    "            </ul>\n",
    "        </li>\n",
    "        <li>\n",
    "            <span><a href=\"#2-ejercicios\">2. Ejercicios</a></span>\n",
    "        </li>\n",
    "    </ul>\n",
    "</div>"
   ]
  },
  {
   "cell_type": "markdown",
   "metadata": {},
   "source": [
    "## 1. Resumen del 3º Reto Guiado SQL: Relaciones de tablas (JOINS).\n",
    "### 1.1. Conocimientos previos.\n",
    "- SQL\n",
    "### 1.2. Propósito del reto. \n",
    "En PowerCinema, una tienda de alquiler de películas ubicada en una zona urbana, estás asumiendo tu papel como analista de datos. La tienda ofrece una amplia variedad de películas, desde clásicos del cine hasta lanzamientos más recientes, atrayendo a una clientela diversa.\n",
    "\n",
    "La gerencia de PowerCinema busca comprender mejor el comportamiento de sus clientes y optimizar la operación de la tienda. Quieren identificar qué películas son las más solicitadas por diferentes grupos de clientes, cómo varía el patrón de alquiler de películas a lo largo del tiempo y cómo se distribuyen los ingresos por concepto de alquileres entre los diversos géneros de películas.\n",
    "\n",
    "Para realizar análisis de manera efectiva, se utilizará la base de datos Sakila en PostgreSQL como el sistema de gestión de base de datos para realizar consultas significativas y extraer información clave. La gerencia espera que puedas descubrir tendencias, patrones de comportamiento y áreas de oportunidad que puedan utilizarse para mejorar la experiencia del cliente y aumentar la rentabilidad de la tienda. \n",
    "\n",
    "A lo largo de distintas sesiones iremos profundizando en el estudio de los datos de Sakila realizando consultas cada vez más complejas. En esta tercera sesión realizaremos consultas en las que tengamos que relacionar tablas distintas de nuestra base de datos\n",
    "\n",
    "## 2. Ejercicios\n",
    "2.1. Obtén todas las combinaciones posibles de trabajadores con las tiendas que tenemos.\n",
    "\n",
    "2.2. Encuentra la cantidad total de películas alquiladas por cada cliente y muestra el ID del cliente, su nombre y apellido junto con la cantidad de películas alquiladas.\n",
    "\n",
    "2.3. Obtener todas las películas y, si están disponibles en el inventario, mostrar la cantidad disponible.\n",
    "\n",
    "2.4. Obtener los actores y el número de películas en las que ha actuado.\n",
    "\n",
    "2.5. Obtener todas las películas y mostrar los actores que han actuado en ellas, incluso si algunas películas no tienen actores asociados.\n",
    "\n",
    "2.6. Obtener todos los actores y mostrar las películas en las que han actuado, incluso si algunos actores no han actuado en ninguna película.\n",
    "\n",
    "2.7. Obtener todas las películas que tenemos y todos los registros de alquiler.\n",
    "\n",
    "2.8. Encuentra el título de las películas que son comedias y tienen una duración mayor a 180 minutos en la tabla film.\n",
    "\n",
    "2.9. Encuentra las categorías de películas que tienen un promedio de duración superior a 110 minutos y muestra el nombre de la categoría junto con el promedio de duración.\n",
    "\n",
    "2.10. Obtén los 5 clientes que más dinero se hayan gastado con nosotros.\n"
   ]
  }
 ],
 "metadata": {
  "kernelspec": {
   "display_name": "base",
   "language": "python",
   "name": "python3"
  },
  "language_info": {
   "codemirror_mode": {
    "name": "ipython",
    "version": 3
   },
   "file_extension": ".py",
   "mimetype": "text/x-python",
   "name": "python",
   "nbconvert_exporter": "python",
   "pygments_lexer": "ipython3",
   "version": "3.11.7"
  }
 },
 "nbformat": 4,
 "nbformat_minor": 2
}
