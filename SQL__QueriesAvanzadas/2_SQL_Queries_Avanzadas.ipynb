{
 "cells": [
  {
   "cell_type": "markdown",
   "metadata": {},
   "source": [
    "<h1>Índice del Reto Guiado de SQL. Queries Avanzadas</h1>\n",
    "<div class=\"toc\">\n",
    "    <ul class=\"toc-item\">\n",
    "        <li>\n",
    "            <span><a href=\"#1-resumen-del-2º-reto-guiado-sql-queries-avanzadas\">1. Resumen del 2º Reto Guiado SQL: Queries Avanzadas.</a></span>\n",
    "            <ul class=\"toc-item\">\n",
    "                <li><span><a href=\"#11-conocimientos-previos\">1.1. Conocimientos previos.</a></span></li>\n",
    "                <li><span><a href=\"#12-propósito-del-reto\">1.2. Propósito del reto.</a></span></li>\n",
    "            </ul>\n",
    "        </li>\n",
    "        <li>\n",
    "            <span><a href=\"#2-ejercicios\">2. Ejercicios</a></span>\n",
    "        </li>\n",
    "    </ul>\n",
    "</div>"
   ]
  },
  {
   "cell_type": "markdown",
   "metadata": {},
   "source": [
    "## 1. Resumen del 2º Reto Guiado SQL: Queries Avanzadas.\n",
    "### 1.1. Conocimientos previos.\n",
    "- SQL\n",
    "### 1.2. Propósito del reto. \n",
    "En PowerCinema, una tienda de alquiler de películas ubicada en una zona urbana, estás asumiendo tu papel como analista de datos. La tienda ofrece una amplia variedad de películas, desde clásicos del cine hasta lanzamientos más recientes, atrayendo a una clientela diversa.\n",
    "\n",
    "La gerencia de PowerCinema busca comprender mejor el comportamiento de sus clientes y optimizar la operación de la tienda. Quieren identificar qué películas son las más solicitadas por diferentes grupos de clientes, cómo varía el patrón de alquiler de películas a lo largo del tiempo y cómo se distribuyen los ingresos por concepto de alquileres entre los diversos géneros de películas.\n",
    "\n",
    "Para realizar análisis de manera efectiva, se utilizará la base de datos Sakila en PostgreSQL como el sistema de gestión de base de datos para realizar consultas significativas y extraer información clave. La gerencia espera que puedas descubrir tendencias, patrones de comportamiento y áreas de oportunidad que puedan utilizarse para mejorar la experiencia del cliente y aumentar la rentabilidad de la tienda. \n",
    "\n",
    "A lo largo de distintas sesiones iremos profundizando en el estudio de los datos de Sakila realizando consultas cada vez más complejas. En esta segunda sesión realizaremos consultas más avanzadas incluyendo las consultas de agregación, además crearemos consultas que nos devuelvan resultados ordenados.\n",
    "## 2. Ejercicios\n",
    "2.1. Ordena las películas por duración de forma ascendente\n",
    "\n",
    "2.2. Muestra los 10 clientes con mayor valor de id\n",
    "\n",
    "2.3. Encuentra lo que costó el antepenúltimo alquiler ordenado por día.\n",
    "\n",
    "2.4. Qué películas se alquilan por encima del precio medio. Para este ejercicio tendrás que generar dos queries diferentes. Una primera para calcular la media y la segunda para obtener las películas que se alquilan por encima de ese valor.\n",
    "\n",
    "2.5. Encuentra la cantidad total de películas en cada clasificación de la tabla film y muestra la clasificación junto con el recuento.\n",
    "\n",
    "2.6. Encuentra el promedio de duración de las películas para cada clasificación de la tabla film y muestra la clasificación junto con el promedio de duración.\n",
    "\n",
    "2.7. Números de alquiler por día. Ordenados por cantidad de alquiler de forma descendente.\n",
    "\n",
    "2.8. Averigua el número de alquileres registrados por mes.\n",
    "\n",
    "2.9. Número de películas por categoría estrenadas en 2006\n",
    "\n",
    "2.10. Muestra el id de los actores que hayan participado en más de 40 películas.\n"
   ]
  }
 ],
 "metadata": {
  "kernelspec": {
   "display_name": "base",
   "language": "python",
   "name": "python3"
  },
  "language_info": {
   "codemirror_mode": {
    "name": "ipython",
    "version": 3
   },
   "file_extension": ".py",
   "mimetype": "text/x-python",
   "name": "python",
   "nbconvert_exporter": "python",
   "pygments_lexer": "ipython3",
   "version": "3.11.7"
  }
 },
 "nbformat": 4,
 "nbformat_minor": 2
}
