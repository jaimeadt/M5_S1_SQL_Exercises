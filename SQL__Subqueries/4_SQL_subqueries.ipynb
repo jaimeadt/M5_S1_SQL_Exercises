{
 "cells": [
  {
   "cell_type": "markdown",
   "metadata": {},
   "source": [
    "<h1>Índice del Reto Guiado de SQL. Subqueries.</h1>\n",
    "<div class=\"toc\">\n",
    "    <ul class=\"toc-item\">\n",
    "        <li>\n",
    "            <span><a href=\"#1-resumen-del-4º-reto-guiado-sql-subqueries\">1. Resumen del 4º Reto Guiado SQL: Subqueries.</a></span>\n",
    "            <ul class=\"toc-item\">\n",
    "                <li><span><a href=\"#11-conocimientos-previos\">1.1. Conocimientos previos.</a></span></li>\n",
    "                <li><span><a href=\"#12-propósito-del-reto\">1.2. Propósito del reto.</a></span></li>\n",
    "            </ul>\n",
    "        </li>\n",
    "        <li>\n",
    "            <span><a href=\"#2-ejercicios\">2. Ejercicios</a></span>\n",
    "        </li>\n",
    "    </ul>\n",
    "</div>"
   ]
  },
  {
   "cell_type": "markdown",
   "metadata": {},
   "source": [
    "## 1. Resumen del 4º Reto Guiado SQL: Subqueries.\n",
    "### 1.1. Conocimientos previos.\n",
    "- SQL completo\n",
    "### 1.2. Propósito del reto. \n",
    "En PowerCinema, una tienda de alquiler de películas ubicada en una zona urbana, estás asumiendo tu papel como analista de datos. La tienda ofrece una amplia variedad de películas, desde clásicos del cine hasta lanzamientos más recientes, atrayendo a una clientela diversa.\n",
    "\n",
    "La gerencia de PowerCinema busca comprender mejor el comportamiento de sus clientes y optimizar la operación de la tienda. Quieren identificar qué películas son las más solicitadas por diferentes grupos de clientes, cómo varía el patrón de alquiler de películas a lo largo del tiempo y cómo se distribuyen los ingresos por concepto de alquileres entre los diversos géneros de películas.\n",
    "\n",
    "Para realizar análisis de manera efectiva, se utilizará la base de datos Sakila en PostgreSQL como el sistema de gestión de base de datos para realizar consultas significativas y extraer información clave. La gerencia espera que puedas descubrir tendencias, patrones de comportamiento y áreas de oportunidad que puedan utilizarse para mejorar la experiencia del cliente y aumentar la rentabilidad de la tienda. \n",
    "\n",
    "A lo largo de distintas sesiones iremos profundizando en el estudio de los datos de Sakila realizando consultas cada vez más complejas. En esta última sesión realizaremos consultas anidadas a una consulta principal.\n",
    "\n",
    "## 2. Ejercicios\n",
    "2.1. Hay algún actor o actriz que no apareca en ninguna película en la tabla film_actor.\n",
    "\n",
    "2.2. Qué películas se alquilan por encima del precio medio. (Este ejercicio ya lo resolvimos en el segundo reto guiado de SQL)\n",
    "\n",
    "2.3. Encuentra los nombres de las películas que tienen la misma duración que la película con el título \"Dancing Fever\" Ordena los resultados alfabéticamente por título de película.\n",
    "\n",
    "2.4. Encuentra los nombres de los clientes que han alquilado al menos 7 películas distintas. Ordena los resultados alfabéticamente por apellido.\n",
    "\n",
    "2.5. Encuentra el nombre y apellido de los actores que aparecen en la película con título\"Egg Igby\".\n",
    "\n",
    "2.6. Encuentra el título de todas las películas que son de la misma categoría que \"Animation\".\n",
    "\n",
    "2.7. Encuentra el título de todas las películas que fueron alquiladas por más de 8 días.\n",
    "\n",
    "2.8. Encuentra el nombre y apellido de los actores que no han actuado en ninguna película de la categoría \"Music\".\n",
    "\n",
    "2.9. Encuentra el título de las películas que han sido alquiladas por el cliente con el nombre \"Tammy Sanders\" y que aún no se han devuelto. Ordena los resultados alfabéticamente por título de película.\n",
    "\n",
    "2.10. Encuentra los nombres de los actores que han actuado en al menos una película que pertenece a la categoría \"Sci-Fi.\" Ordena los resultados alfabéticamente por apellido.\n",
    "\n",
    "2.11. Encuentra la cantidad total de películas alquiladas por categoría y muestra el nombre de la categoría junto con el recuento de alquileres.\n",
    "\n",
    "2.12. Encuentra el nombre y apellido de los actores que han actuado en películas que se alquilaron después de que la película \"Spartacus Cheaper\" se alquilara por primera vez. Ordena los resultados alfabéticamente por apellido.\n"
   ]
  }
 ],
 "metadata": {
  "kernelspec": {
   "display_name": "base",
   "language": "python",
   "name": "python3"
  },
  "language_info": {
   "codemirror_mode": {
    "name": "ipython",
    "version": 3
   },
   "file_extension": ".py",
   "mimetype": "text/x-python",
   "name": "python",
   "nbconvert_exporter": "python",
   "pygments_lexer": "ipython3",
   "version": "3.11.7"
  }
 },
 "nbformat": 4,
 "nbformat_minor": 2
}
